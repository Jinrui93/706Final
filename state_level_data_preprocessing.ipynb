{
 "cells": [
  {
   "cell_type": "markdown",
   "source": [
    "# Data preprocessing - aggregate county-level data into state-level\n",
    "- Dataset `US_counties_COVID19_health_weather_data.csv` is obtained from the US Counties COVID-19 + Weather + Socio/Health Data from Kaggle.\n",
    "    Please see link: https://www.kaggle.com/datasets/johnjdavisiv/us-counties-covid19-weather-sociohealth-data\n",
    "- Dataset `codes.csv` contains state name and corresponding fips code.\n",
    "    Information in this dataset is obtained from https://www.bls.gov/respondents/mwr/electronic-data-interchange/appendix-d-usps-state-abbreviations-and-fips-codes.htm.\n",
    "    `codes.csv` is also uploaded to the Github repo https://github.com/Jinrui93/706Final."
   ],
   "metadata": {
    "collapsed": false
   }
  },
  {
   "cell_type": "code",
   "execution_count": 65,
   "outputs": [],
   "source": [
    "import pandas as pd\n",
    "df = pd.read_csv(\"/Users/yujanting/Desktop/spring 2023/BMI 706/archive/US_counties_COVID19_health_weather_data.csv\")\n",
    "\n",
    "var_names = ['date', 'state','cases','deaths', 'total_population', 'num_deaths',\n",
    "             'mean_temp','precipitation','wind_speed',\n",
    "             'percent_adults_with_obesity', 'percent_smokers', 'percent_insufficient_sleep']\n",
    "tmp = df[var_names]\n",
    "\n",
    "df_grouped = tmp.groupby(['date', 'state']).agg({\n",
    "    'cases': 'sum',\n",
    "    'deaths': 'sum',\n",
    "    'total_population': 'sum',\n",
    "    'num_deaths': 'sum',\n",
    "    'mean_temp': 'mean',\n",
    "    'precipitation': 'mean',\n",
    "    'wind_speed': 'mean',\n",
    "    'percent_smokers': 'mean',\n",
    "    'percent_adults_with_obesity': 'mean',\n",
    "    'percent_insufficient_sleep': 'mean'\n",
    "\n",
    "})\n",
    "df_grouped = df_grouped.reset_index()\n",
    "codes = pd.read_csv(\"/Users/yujanting/Desktop/spring 2023/BMI 706/codes.csv\")\n",
    "df1 = df_grouped.merge(codes, how='inner', on = 'state')"
   ],
   "metadata": {
    "collapsed": false
   }
  },
  {
   "cell_type": "code",
   "execution_count": 235,
   "outputs": [],
   "source": [
    "df1.to_csv('/Users/yujanting/Desktop/spring 2023/BMI 706/df_state_level.csv')"
   ],
   "metadata": {
    "collapsed": false
   }
  }
 ],
 "metadata": {
  "kernelspec": {
   "display_name": "Python 3",
   "language": "python",
   "name": "python3"
  },
  "language_info": {
   "codemirror_mode": {
    "name": "ipython",
    "version": 2
   },
   "file_extension": ".py",
   "mimetype": "text/x-python",
   "name": "python",
   "nbconvert_exporter": "python",
   "pygments_lexer": "ipython2",
   "version": "2.7.6"
  }
 },
 "nbformat": 4,
 "nbformat_minor": 0
}
